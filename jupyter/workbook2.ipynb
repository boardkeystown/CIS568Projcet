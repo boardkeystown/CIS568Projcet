{
 "cells": [
  {
   "cell_type": "code",
   "execution_count": 47,
   "metadata": {},
   "outputs": [],
   "source": [
    "import pandas as pd\n",
    "import matplotlib.pyplot as plt"
   ]
  },
  {
   "cell_type": "markdown",
   "metadata": {},
   "source": [
    "# Load DATA"
   ]
  },
  {
   "cell_type": "code",
   "execution_count": 48,
   "metadata": {},
   "outputs": [],
   "source": [
    "\n",
    "gdpdf = pd.read_csv('https://raw.githubusercontent.com/boardkeystown/CIS568Project/main/Data/API_NY.GDP.MKTP.KD.ZG_DS2_en_csv_v2_4694019.csv')\n",
    "\n",
    "avg_height_men = pd.read_csv(\"https://raw.githubusercontent.com/boardkeystown/CIS568Project/main/Data/average-height-of-men.csv\")\n",
    "avg_height_women = pd.read_csv(\"https://raw.githubusercontent.com/boardkeystown/CIS568Project/main/Data/average-height-of-women.csv\")\n",
    "\n",
    "avg_height_change_women = pd.read_csv('https://raw.githubusercontent.com/boardkeystown/CIS568Project/main/Data/annual-change-in-average-female-height.csv')\n",
    "avg_height_change_men = pd.read_csv('https://raw.githubusercontent.com/boardkeystown/CIS568Project/main/Data/annual-change-in-average-male-height.csv')"
   ]
  },
  {
   "cell_type": "markdown",
   "metadata": {},
   "source": [
    "Filter out na values, set to 0"
   ]
  },
  {
   "cell_type": "code",
   "execution_count": 49,
   "metadata": {},
   "outputs": [],
   "source": [
    "gdpdf = gdpdf.fillna(0)\n",
    "avg_height_men = avg_height_men.fillna(0)\n",
    "avg_height_women = avg_height_women.fillna(0)\n",
    "avg_height_change_women = avg_height_change_women.fillna(0)\n",
    "avg_height_change_men  = avg_height_change_men.fillna(0)"
   ]
  },
  {
   "cell_type": "markdown",
   "metadata": {},
   "source": [
    "# Get Data We Want To Use Into Single Dataframe"
   ]
  },
  {
   "cell_type": "code",
   "execution_count": 50,
   "metadata": {},
   "outputs": [],
   "source": [
    "#copy men into new df and start with this\n",
    "avg_height_human = avg_height_men.copy()"
   ]
  },
  {
   "cell_type": "code",
   "execution_count": 51,
   "metadata": {},
   "outputs": [
    {
     "data": {
      "text/html": [
       "<div>\n",
       "<style scoped>\n",
       "    .dataframe tbody tr th:only-of-type {\n",
       "        vertical-align: middle;\n",
       "    }\n",
       "\n",
       "    .dataframe tbody tr th {\n",
       "        vertical-align: top;\n",
       "    }\n",
       "\n",
       "    .dataframe thead th {\n",
       "        text-align: right;\n",
       "    }\n",
       "</style>\n",
       "<table border=\"1\" class=\"dataframe\">\n",
       "  <thead>\n",
       "    <tr style=\"text-align: right;\">\n",
       "      <th></th>\n",
       "      <th>Entity</th>\n",
       "      <th>Code</th>\n",
       "      <th>Year</th>\n",
       "      <th>Mean male height (cm)</th>\n",
       "    </tr>\n",
       "  </thead>\n",
       "  <tbody>\n",
       "    <tr>\n",
       "      <th>0</th>\n",
       "      <td>Afghanistan</td>\n",
       "      <td>AFG</td>\n",
       "      <td>1896</td>\n",
       "      <td>161.164095</td>\n",
       "    </tr>\n",
       "    <tr>\n",
       "      <th>1</th>\n",
       "      <td>Afghanistan</td>\n",
       "      <td>AFG</td>\n",
       "      <td>1897</td>\n",
       "      <td>161.196286</td>\n",
       "    </tr>\n",
       "    <tr>\n",
       "      <th>2</th>\n",
       "      <td>Afghanistan</td>\n",
       "      <td>AFG</td>\n",
       "      <td>1898</td>\n",
       "      <td>161.228297</td>\n",
       "    </tr>\n",
       "    <tr>\n",
       "      <th>3</th>\n",
       "      <td>Afghanistan</td>\n",
       "      <td>AFG</td>\n",
       "      <td>1899</td>\n",
       "      <td>161.260727</td>\n",
       "    </tr>\n",
       "    <tr>\n",
       "      <th>4</th>\n",
       "      <td>Afghanistan</td>\n",
       "      <td>AFG</td>\n",
       "      <td>1900</td>\n",
       "      <td>161.293068</td>\n",
       "    </tr>\n",
       "  </tbody>\n",
       "</table>\n",
       "</div>"
      ],
      "text/plain": [
       "        Entity Code  Year  Mean male height (cm)\n",
       "0  Afghanistan  AFG  1896             161.164095\n",
       "1  Afghanistan  AFG  1897             161.196286\n",
       "2  Afghanistan  AFG  1898             161.228297\n",
       "3  Afghanistan  AFG  1899             161.260727\n",
       "4  Afghanistan  AFG  1900             161.293068"
      ]
     },
     "execution_count": 51,
     "metadata": {},
     "output_type": "execute_result"
    }
   ],
   "source": [
    "avg_height_human.head()"
   ]
  },
  {
   "cell_type": "code",
   "execution_count": 52,
   "metadata": {},
   "outputs": [
    {
     "data": {
      "text/html": [
       "<div>\n",
       "<style scoped>\n",
       "    .dataframe tbody tr th:only-of-type {\n",
       "        vertical-align: middle;\n",
       "    }\n",
       "\n",
       "    .dataframe tbody tr th {\n",
       "        vertical-align: top;\n",
       "    }\n",
       "\n",
       "    .dataframe thead th {\n",
       "        text-align: right;\n",
       "    }\n",
       "</style>\n",
       "<table border=\"1\" class=\"dataframe\">\n",
       "  <thead>\n",
       "    <tr style=\"text-align: right;\">\n",
       "      <th></th>\n",
       "      <th>Entity</th>\n",
       "      <th>Code</th>\n",
       "      <th>Year</th>\n",
       "      <th>Mean male height (cm)</th>\n",
       "      <th>Mean female height (cm)</th>\n",
       "      <th>change in male height</th>\n",
       "      <th>change in female height</th>\n",
       "    </tr>\n",
       "  </thead>\n",
       "  <tbody>\n",
       "    <tr>\n",
       "      <th>0</th>\n",
       "      <td>Afghanistan</td>\n",
       "      <td>AFG</td>\n",
       "      <td>1896</td>\n",
       "      <td>161.164095</td>\n",
       "      <td>149.187747</td>\n",
       "      <td>0.01997</td>\n",
       "      <td>0.08962</td>\n",
       "    </tr>\n",
       "    <tr>\n",
       "      <th>1</th>\n",
       "      <td>Afghanistan</td>\n",
       "      <td>AFG</td>\n",
       "      <td>1897</td>\n",
       "      <td>161.196286</td>\n",
       "      <td>149.321451</td>\n",
       "      <td>0.01986</td>\n",
       "      <td>0.08977</td>\n",
       "    </tr>\n",
       "    <tr>\n",
       "      <th>2</th>\n",
       "      <td>Afghanistan</td>\n",
       "      <td>AFG</td>\n",
       "      <td>1898</td>\n",
       "      <td>161.228297</td>\n",
       "      <td>149.455494</td>\n",
       "      <td>0.02011</td>\n",
       "      <td>0.08966</td>\n",
       "    </tr>\n",
       "    <tr>\n",
       "      <th>3</th>\n",
       "      <td>Afghanistan</td>\n",
       "      <td>AFG</td>\n",
       "      <td>1899</td>\n",
       "      <td>161.260727</td>\n",
       "      <td>149.589503</td>\n",
       "      <td>0.02005</td>\n",
       "      <td>0.08963</td>\n",
       "    </tr>\n",
       "    <tr>\n",
       "      <th>4</th>\n",
       "      <td>Afghanistan</td>\n",
       "      <td>AFG</td>\n",
       "      <td>1900</td>\n",
       "      <td>161.293068</td>\n",
       "      <td>149.723587</td>\n",
       "      <td>0.02010</td>\n",
       "      <td>0.08949</td>\n",
       "    </tr>\n",
       "  </tbody>\n",
       "</table>\n",
       "</div>"
      ],
      "text/plain": [
       "        Entity Code  Year  Mean male height (cm)  Mean female height (cm)  \\\n",
       "0  Afghanistan  AFG  1896             161.164095               149.187747   \n",
       "1  Afghanistan  AFG  1897             161.196286               149.321451   \n",
       "2  Afghanistan  AFG  1898             161.228297               149.455494   \n",
       "3  Afghanistan  AFG  1899             161.260727               149.589503   \n",
       "4  Afghanistan  AFG  1900             161.293068               149.723587   \n",
       "\n",
       "   change in male height  change in female height  \n",
       "0                0.01997                  0.08962  \n",
       "1                0.01986                  0.08977  \n",
       "2                0.02011                  0.08966  \n",
       "3                0.02005                  0.08963  \n",
       "4                0.02010                  0.08949  "
      ]
     },
     "execution_count": 52,
     "metadata": {},
     "output_type": "execute_result"
    }
   ],
   "source": [
    "#copy over other columns\n",
    "\n",
    "avg_height_human['Mean female height (cm)'] = avg_height_women['Mean female height (cm)'][(avg_height_human['Code'] == avg_height_women['Code']) & (avg_height_human['Year'] == avg_height_women['Year'])]\n",
    "avg_height_human['change in male height'] = avg_height_change_men['Year-on-year change in male height (%)']\n",
    "avg_height_human['change in female height'] = avg_height_change_women['Year-on-year change in female height (%)']\n",
    "\n",
    "\n",
    "#do fill na to be safe\n",
    "\n",
    "avg_height_human = avg_height_human.fillna(0)\n",
    "avg_height_human.head()\n"
   ]
  },
  {
   "cell_type": "code",
   "execution_count": 53,
   "metadata": {},
   "outputs": [
    {
     "data": {
      "text/html": [
       "<div>\n",
       "<style scoped>\n",
       "    .dataframe tbody tr th:only-of-type {\n",
       "        vertical-align: middle;\n",
       "    }\n",
       "\n",
       "    .dataframe tbody tr th {\n",
       "        vertical-align: top;\n",
       "    }\n",
       "\n",
       "    .dataframe thead th {\n",
       "        text-align: right;\n",
       "    }\n",
       "</style>\n",
       "<table border=\"1\" class=\"dataframe\">\n",
       "  <thead>\n",
       "    <tr style=\"text-align: right;\">\n",
       "      <th></th>\n",
       "      <th>Country Name</th>\n",
       "      <th>Country Code</th>\n",
       "      <th>Indicator Name</th>\n",
       "      <th>Indicator Code</th>\n",
       "      <th>1960</th>\n",
       "      <th>1961</th>\n",
       "      <th>1962</th>\n",
       "      <th>1963</th>\n",
       "      <th>1964</th>\n",
       "      <th>1965</th>\n",
       "      <th>...</th>\n",
       "      <th>2012</th>\n",
       "      <th>2013</th>\n",
       "      <th>2014</th>\n",
       "      <th>2015</th>\n",
       "      <th>2016</th>\n",
       "      <th>2017</th>\n",
       "      <th>2018</th>\n",
       "      <th>2019</th>\n",
       "      <th>2020</th>\n",
       "      <th>2021</th>\n",
       "    </tr>\n",
       "  </thead>\n",
       "  <tbody>\n",
       "    <tr>\n",
       "      <th>0</th>\n",
       "      <td>Aruba</td>\n",
       "      <td>ABW</td>\n",
       "      <td>GDP growth (annual %)</td>\n",
       "      <td>NY.GDP.MKTP.KD.ZG</td>\n",
       "      <td>0.0</td>\n",
       "      <td>0.000000</td>\n",
       "      <td>0.000000</td>\n",
       "      <td>0.000000</td>\n",
       "      <td>0.000000</td>\n",
       "      <td>0.000000</td>\n",
       "      <td>...</td>\n",
       "      <td>-1.035375</td>\n",
       "      <td>6.429817</td>\n",
       "      <td>-0.020479</td>\n",
       "      <td>3.543630</td>\n",
       "      <td>2.116716</td>\n",
       "      <td>5.482371</td>\n",
       "      <td>1.267218</td>\n",
       "      <td>-2.085600</td>\n",
       "      <td>-22.318948</td>\n",
       "      <td>0.000000</td>\n",
       "    </tr>\n",
       "    <tr>\n",
       "      <th>1</th>\n",
       "      <td>Africa Eastern and Southern</td>\n",
       "      <td>AFE</td>\n",
       "      <td>GDP growth (annual %)</td>\n",
       "      <td>NY.GDP.MKTP.KD.ZG</td>\n",
       "      <td>0.0</td>\n",
       "      <td>0.239594</td>\n",
       "      <td>7.980768</td>\n",
       "      <td>5.164334</td>\n",
       "      <td>4.579952</td>\n",
       "      <td>5.327717</td>\n",
       "      <td>...</td>\n",
       "      <td>0.923067</td>\n",
       "      <td>4.200209</td>\n",
       "      <td>3.984387</td>\n",
       "      <td>2.952845</td>\n",
       "      <td>2.217017</td>\n",
       "      <td>2.557135</td>\n",
       "      <td>2.485244</td>\n",
       "      <td>2.025941</td>\n",
       "      <td>-2.886856</td>\n",
       "      <td>4.303667</td>\n",
       "    </tr>\n",
       "    <tr>\n",
       "      <th>2</th>\n",
       "      <td>Afghanistan</td>\n",
       "      <td>AFG</td>\n",
       "      <td>GDP growth (annual %)</td>\n",
       "      <td>NY.GDP.MKTP.KD.ZG</td>\n",
       "      <td>0.0</td>\n",
       "      <td>0.000000</td>\n",
       "      <td>0.000000</td>\n",
       "      <td>0.000000</td>\n",
       "      <td>0.000000</td>\n",
       "      <td>0.000000</td>\n",
       "      <td>...</td>\n",
       "      <td>12.752287</td>\n",
       "      <td>5.600745</td>\n",
       "      <td>2.724543</td>\n",
       "      <td>1.451315</td>\n",
       "      <td>2.260314</td>\n",
       "      <td>2.647003</td>\n",
       "      <td>1.189228</td>\n",
       "      <td>3.911603</td>\n",
       "      <td>-2.351101</td>\n",
       "      <td>0.000000</td>\n",
       "    </tr>\n",
       "    <tr>\n",
       "      <th>3</th>\n",
       "      <td>Africa Western and Central</td>\n",
       "      <td>AFW</td>\n",
       "      <td>GDP growth (annual %)</td>\n",
       "      <td>NY.GDP.MKTP.KD.ZG</td>\n",
       "      <td>0.0</td>\n",
       "      <td>1.848752</td>\n",
       "      <td>3.770220</td>\n",
       "      <td>7.272440</td>\n",
       "      <td>5.396349</td>\n",
       "      <td>4.049793</td>\n",
       "      <td>...</td>\n",
       "      <td>5.142997</td>\n",
       "      <td>6.104192</td>\n",
       "      <td>5.927355</td>\n",
       "      <td>2.745894</td>\n",
       "      <td>0.127844</td>\n",
       "      <td>2.317679</td>\n",
       "      <td>2.952190</td>\n",
       "      <td>3.202544</td>\n",
       "      <td>-0.897014</td>\n",
       "      <td>3.914799</td>\n",
       "    </tr>\n",
       "    <tr>\n",
       "      <th>4</th>\n",
       "      <td>Angola</td>\n",
       "      <td>AGO</td>\n",
       "      <td>GDP growth (annual %)</td>\n",
       "      <td>NY.GDP.MKTP.KD.ZG</td>\n",
       "      <td>0.0</td>\n",
       "      <td>0.000000</td>\n",
       "      <td>0.000000</td>\n",
       "      <td>0.000000</td>\n",
       "      <td>0.000000</td>\n",
       "      <td>0.000000</td>\n",
       "      <td>...</td>\n",
       "      <td>8.540000</td>\n",
       "      <td>4.950000</td>\n",
       "      <td>4.820000</td>\n",
       "      <td>0.940000</td>\n",
       "      <td>-2.580000</td>\n",
       "      <td>-0.150000</td>\n",
       "      <td>-1.316312</td>\n",
       "      <td>-0.700000</td>\n",
       "      <td>-5.500000</td>\n",
       "      <td>0.700000</td>\n",
       "    </tr>\n",
       "  </tbody>\n",
       "</table>\n",
       "<p>5 rows × 66 columns</p>\n",
       "</div>"
      ],
      "text/plain": [
       "                  Country Name Country Code         Indicator Name  \\\n",
       "0                        Aruba          ABW  GDP growth (annual %)   \n",
       "1  Africa Eastern and Southern          AFE  GDP growth (annual %)   \n",
       "2                  Afghanistan          AFG  GDP growth (annual %)   \n",
       "3   Africa Western and Central          AFW  GDP growth (annual %)   \n",
       "4                       Angola          AGO  GDP growth (annual %)   \n",
       "\n",
       "      Indicator Code  1960      1961      1962      1963      1964      1965  \\\n",
       "0  NY.GDP.MKTP.KD.ZG   0.0  0.000000  0.000000  0.000000  0.000000  0.000000   \n",
       "1  NY.GDP.MKTP.KD.ZG   0.0  0.239594  7.980768  5.164334  4.579952  5.327717   \n",
       "2  NY.GDP.MKTP.KD.ZG   0.0  0.000000  0.000000  0.000000  0.000000  0.000000   \n",
       "3  NY.GDP.MKTP.KD.ZG   0.0  1.848752  3.770220  7.272440  5.396349  4.049793   \n",
       "4  NY.GDP.MKTP.KD.ZG   0.0  0.000000  0.000000  0.000000  0.000000  0.000000   \n",
       "\n",
       "   ...       2012      2013      2014      2015      2016      2017      2018  \\\n",
       "0  ...  -1.035375  6.429817 -0.020479  3.543630  2.116716  5.482371  1.267218   \n",
       "1  ...   0.923067  4.200209  3.984387  2.952845  2.217017  2.557135  2.485244   \n",
       "2  ...  12.752287  5.600745  2.724543  1.451315  2.260314  2.647003  1.189228   \n",
       "3  ...   5.142997  6.104192  5.927355  2.745894  0.127844  2.317679  2.952190   \n",
       "4  ...   8.540000  4.950000  4.820000  0.940000 -2.580000 -0.150000 -1.316312   \n",
       "\n",
       "       2019       2020      2021  \n",
       "0 -2.085600 -22.318948  0.000000  \n",
       "1  2.025941  -2.886856  4.303667  \n",
       "2  3.911603  -2.351101  0.000000  \n",
       "3  3.202544  -0.897014  3.914799  \n",
       "4 -0.700000  -5.500000  0.700000  \n",
       "\n",
       "[5 rows x 66 columns]"
      ]
     },
     "execution_count": 53,
     "metadata": {},
     "output_type": "execute_result"
    }
   ],
   "source": [
    "#take a look at GDP \n",
    "\n",
    "gdpdf.head()"
   ]
  },
  {
   "cell_type": "markdown",
   "metadata": {},
   "source": [
    "Make a few functions to filter the GDP columns"
   ]
  },
  {
   "cell_type": "code",
   "execution_count": 54,
   "metadata": {},
   "outputs": [],
   "source": [
    "#need to filter by columns into the avg_height_human df \n",
    "#get the years columns indexes\n",
    "def filterGDPYears(df):\n",
    "    gdpYears = df.columns[5:len(df.columns)-1]\n",
    "    gdpYearsLookUp =  {}\n",
    "    indexList = []\n",
    "    yearsList = []\n",
    "    for i,j in enumerate(gdpYears):\n",
    "        gdpYearsLookUp[j] = i+5\n",
    "        indexList.append(i+5)\n",
    "        yearsList.append(j)\n",
    "    return gdpYears, gdpYearsLookUp, indexList, yearsList\n",
    "\n",
    "\n",
    "gdpYears, gdpYearsLookUp, indexList, yearsList = filterGDPYears(gdpdf)\n"
   ]
  },
  {
   "cell_type": "code",
   "execution_count": 55,
   "metadata": {},
   "outputs": [],
   "source": [
    "import math\n",
    "\n",
    "def getGDP_DFMap(df,yList,iList):\n",
    "    map = {}\n",
    "    for row in gdpdf.iterrows():\n",
    "        if (map.get(row[1]['Country Code'],False) is False):\n",
    "            s = {}\n",
    "            for i,j in enumerate(iList):\n",
    "                v = 0\n",
    "                if not math.isnan(row[1][j]):\n",
    "                    v = row[1][j]\n",
    "                s |= {f\"{yList[i]}\":v}\n",
    "            map[row[1]['Country Code']] = s\n",
    "    return map\n",
    "\n",
    "\n",
    "gdpdfMap = getGDP_DFMap(gdpdf,yearsList,indexList)"
   ]
  },
  {
   "cell_type": "markdown",
   "metadata": {},
   "source": [
    "Now we have a way to get the info we are looking for from the gdp datasets"
   ]
  },
  {
   "cell_type": "code",
   "execution_count": 56,
   "metadata": {},
   "outputs": [
    {
     "data": {
      "text/plain": [
       "dict_keys(['ABW', 'AFE', 'AFG', 'AFW', 'AGO', 'ALB', 'AND', 'ARB', 'ARE', 'ARG', 'ARM', 'ASM', 'ATG', 'AUS', 'AUT', 'AZE', 'BDI', 'BEL', 'BEN', 'BFA', 'BGD', 'BGR', 'BHR', 'BHS', 'BIH', 'BLR', 'BLZ', 'BMU', 'BOL', 'BRA', 'BRB', 'BRN', 'BTN', 'BWA', 'CAF', 'CAN', 'CEB', 'CHE', 'CHI', 'CHL', 'CHN', 'CIV', 'CMR', 'COD', 'COG', 'COL', 'COM', 'CPV', 'CRI', 'CSS', 'CUB', 'CUW', 'CYM', 'CYP', 'CZE', 'DEU', 'DJI', 'DMA', 'DNK', 'DOM', 'DZA', 'EAP', 'EAR', 'EAS', 'ECA', 'ECS', 'ECU', 'EGY', 'EMU', 'ERI', 'ESP', 'EST', 'ETH', 'EUU', 'FCS', 'FIN', 'FJI', 'FRA', 'FRO', 'FSM', 'GAB', 'GBR', 'GEO', 'GHA', 'GIB', 'GIN', 'GMB', 'GNB', 'GNQ', 'GRC', 'GRD', 'GRL', 'GTM', 'GUM', 'GUY', 'HIC', 'HKG', 'HND', 'HPC', 'HRV', 'HTI', 'HUN', 'IBD', 'IBT', 'IDA', 'IDB', 'IDN', 'IDX', 'IMN', 'IND', 'INX', 'IRL', 'IRN', 'IRQ', 'ISL', 'ISR', 'ITA', 'JAM', 'JOR', 'JPN', 'KAZ', 'KEN', 'KGZ', 'KHM', 'KIR', 'KNA', 'KOR', 'KWT', 'LAC', 'LAO', 'LBN', 'LBR', 'LBY', 'LCA', 'LCN', 'LDC', 'LIC', 'LIE', 'LKA', 'LMC', 'LMY', 'LSO', 'LTE', 'LTU', 'LUX', 'LVA', 'MAC', 'MAF', 'MAR', 'MCO', 'MDA', 'MDG', 'MDV', 'MEA', 'MEX', 'MHL', 'MIC', 'MKD', 'MLI', 'MLT', 'MMR', 'MNA', 'MNE', 'MNG', 'MNP', 'MOZ', 'MRT', 'MUS', 'MWI', 'MYS', 'NAC', 'NAM', 'NCL', 'NER', 'NGA', 'NIC', 'NLD', 'NOR', 'NPL', 'NRU', 'NZL', 'OED', 'OMN', 'OSS', 'PAK', 'PAN', 'PER', 'PHL', 'PLW', 'PNG', 'POL', 'PRE', 'PRI', 'PRK', 'PRT', 'PRY', 'PSE', 'PSS', 'PST', 'PYF', 'QAT', 'ROU', 'RUS', 'RWA', 'SAS', 'SAU', 'SDN', 'SEN', 'SGP', 'SLB', 'SLE', 'SLV', 'SMR', 'SOM', 'SRB', 'SSA', 'SSD', 'SSF', 'SST', 'STP', 'SUR', 'SVK', 'SVN', 'SWE', 'SWZ', 'SXM', 'SYC', 'SYR', 'TCA', 'TCD', 'TEA', 'TEC', 'TGO', 'THA', 'TJK', 'TKM', 'TLA', 'TLS', 'TMN', 'TON', 'TSA', 'TSS', 'TTO', 'TUN', 'TUR', 'TUV', 'TZA', 'UGA', 'UKR', 'UMC', 'URY', 'USA', 'UZB', 'VCT', 'VEN', 'VGB', 'VIR', 'VNM', 'VUT', 'WLD', 'WSM', 'XKX', 'YEM', 'ZAF', 'ZMB', 'ZWE'])"
      ]
     },
     "execution_count": 56,
     "metadata": {},
     "output_type": "execute_result"
    }
   ],
   "source": [
    "gdpdfMap.keys()"
   ]
  },
  {
   "cell_type": "code",
   "execution_count": 57,
   "metadata": {},
   "outputs": [
    {
     "data": {
      "text/plain": [
       "{'1961': 12.04353641,\n",
       " '1962': 8.908972996,\n",
       " '1963': 8.473642383,\n",
       " '1964': 11.6767082,\n",
       " '1965': 5.819707873,\n",
       " '1966': 10.63856156,\n",
       " '1967': 11.08214232,\n",
       " '1968': 12.88246814,\n",
       " '1969': 12.47789451,\n",
       " '1970': 2.454958384,\n",
       " '1971': 4.698992042,\n",
       " '1972': 8.413547255,\n",
       " '1973': 8.032599975,\n",
       " '1974': -1.225239828,\n",
       " '1975': 3.091575916,\n",
       " '1976': 3.974984091,\n",
       " '1977': 4.39033795,\n",
       " '1978': 5.271941503,\n",
       " '1979': 5.484041832,\n",
       " '1980': 2.817591208,\n",
       " '1981': 4.260624493,\n",
       " '1982': 3.279742743,\n",
       " '1983': 3.630198572,\n",
       " '1984': 4.410880154,\n",
       " '1985': 5.159807905,\n",
       " '1986': 3.294047613,\n",
       " '1987': 4.648861398,\n",
       " '1988': 6.661636522,\n",
       " '1989': 4.925785413,\n",
       " '1990': 4.840929057,\n",
       " '1991': 3.523357235,\n",
       " '1992': 0.900586066,\n",
       " '1993': -0.459219716,\n",
       " '1994': 1.083383174,\n",
       " '1995': 2.630999616,\n",
       " '1996': 3.133870993,\n",
       " '1997': 0.981228732,\n",
       " '1998': -1.270330495,\n",
       " '1999': -0.333929958,\n",
       " '2000': 2.764647551,\n",
       " '2001': 0.386103426,\n",
       " '2002': 0.041962499,\n",
       " '2003': 1.535125499,\n",
       " '2004': 2.186115694,\n",
       " '2005': 1.803900872,\n",
       " '2006': 1.372350128,\n",
       " '2007': 1.483969412,\n",
       " '2008': -1.224289001,\n",
       " '2009': -5.693236359,\n",
       " '2010': 4.097917919,\n",
       " '2011': 0.023809524,\n",
       " '2012': 1.374750999,\n",
       " '2013': 2.005100177,\n",
       " '2014': 0.296205514,\n",
       " '2015': 1.560626697,\n",
       " '2016': 0.753826746,\n",
       " '2017': 1.675331752,\n",
       " '2018': 0.584068067,\n",
       " '2019': -0.240350841,\n",
       " '2020': -4.506904542}"
      ]
     },
     "execution_count": 57,
     "metadata": {},
     "output_type": "execute_result"
    }
   ],
   "source": [
    "gdpdfMap[\"JPN\"]"
   ]
  },
  {
   "cell_type": "markdown",
   "metadata": {},
   "source": [
    "Need a list of country codes"
   ]
  },
  {
   "cell_type": "code",
   "execution_count": 58,
   "metadata": {},
   "outputs": [
    {
     "data": {
      "text/plain": [
       "0      ABW\n",
       "1      AFE\n",
       "2      AFG\n",
       "3      AFW\n",
       "4      AGO\n",
       "      ... \n",
       "261    XKX\n",
       "262    YEM\n",
       "263    ZAF\n",
       "264    ZMB\n",
       "265    ZWE\n",
       "Name: Country Code, Length: 266, dtype: object"
      ]
     },
     "execution_count": 58,
     "metadata": {},
     "output_type": "execute_result"
    }
   ],
   "source": [
    "ccode = gdpdf['Country Code']\n",
    "ccode"
   ]
  },
  {
   "cell_type": "markdown",
   "metadata": {},
   "source": [
    "Now need to figure out what was in the map so that we can add to each row of the avg_height_human df if we have the data for it."
   ]
  },
  {
   "cell_type": "code",
   "execution_count": 59,
   "metadata": {},
   "outputs": [],
   "source": [
    "def makeGDPColumn(df,map):\n",
    "    columnGDPKeep = []\n",
    "    for row in avg_height_human.iterrows():\n",
    "        v = 0\n",
    "        if (map.get(code := row[1]['Code'],False)):\n",
    "            if (map[code].get(year := str(row[1]['Year']),False)):\n",
    "                v = map[code][year]\n",
    "        columnGDPKeep.append(v)\n",
    "    return columnGDPKeep\n",
    "\n",
    "GDPKeep = makeGDPColumn(avg_height_human,gdpdfMap)"
   ]
  },
  {
   "cell_type": "code",
   "execution_count": 60,
   "metadata": {},
   "outputs": [
    {
     "data": {
      "text/html": [
       "<div>\n",
       "<style scoped>\n",
       "    .dataframe tbody tr th:only-of-type {\n",
       "        vertical-align: middle;\n",
       "    }\n",
       "\n",
       "    .dataframe tbody tr th {\n",
       "        vertical-align: top;\n",
       "    }\n",
       "\n",
       "    .dataframe thead th {\n",
       "        text-align: right;\n",
       "    }\n",
       "</style>\n",
       "<table border=\"1\" class=\"dataframe\">\n",
       "  <thead>\n",
       "    <tr style=\"text-align: right;\">\n",
       "      <th></th>\n",
       "      <th>Entity</th>\n",
       "      <th>Code</th>\n",
       "      <th>Year</th>\n",
       "      <th>Mean male height (cm)</th>\n",
       "      <th>Mean female height (cm)</th>\n",
       "      <th>change in male height</th>\n",
       "      <th>change in female height</th>\n",
       "      <th>GDP annual growth</th>\n",
       "    </tr>\n",
       "  </thead>\n",
       "  <tbody>\n",
       "    <tr>\n",
       "      <th>0</th>\n",
       "      <td>Afghanistan</td>\n",
       "      <td>AFG</td>\n",
       "      <td>1896</td>\n",
       "      <td>161.164095</td>\n",
       "      <td>149.187747</td>\n",
       "      <td>0.01997</td>\n",
       "      <td>0.08962</td>\n",
       "      <td>0.0</td>\n",
       "    </tr>\n",
       "    <tr>\n",
       "      <th>1</th>\n",
       "      <td>Afghanistan</td>\n",
       "      <td>AFG</td>\n",
       "      <td>1897</td>\n",
       "      <td>161.196286</td>\n",
       "      <td>149.321451</td>\n",
       "      <td>0.01986</td>\n",
       "      <td>0.08977</td>\n",
       "      <td>0.0</td>\n",
       "    </tr>\n",
       "    <tr>\n",
       "      <th>2</th>\n",
       "      <td>Afghanistan</td>\n",
       "      <td>AFG</td>\n",
       "      <td>1898</td>\n",
       "      <td>161.228297</td>\n",
       "      <td>149.455494</td>\n",
       "      <td>0.02011</td>\n",
       "      <td>0.08966</td>\n",
       "      <td>0.0</td>\n",
       "    </tr>\n",
       "  </tbody>\n",
       "</table>\n",
       "</div>"
      ],
      "text/plain": [
       "        Entity Code  Year  Mean male height (cm)  Mean female height (cm)  \\\n",
       "0  Afghanistan  AFG  1896             161.164095               149.187747   \n",
       "1  Afghanistan  AFG  1897             161.196286               149.321451   \n",
       "2  Afghanistan  AFG  1898             161.228297               149.455494   \n",
       "\n",
       "   change in male height  change in female height  GDP annual growth  \n",
       "0                0.01997                  0.08962                0.0  \n",
       "1                0.01986                  0.08977                0.0  \n",
       "2                0.02011                  0.08966                0.0  "
      ]
     },
     "execution_count": 60,
     "metadata": {},
     "output_type": "execute_result"
    }
   ],
   "source": [
    "avg_height_human[\"GDP annual growth\"] = GDPKeep\n",
    "avg_height_human.head(3)"
   ]
  },
  {
   "cell_type": "code",
   "execution_count": 61,
   "metadata": {},
   "outputs": [
    {
     "data": {
      "text/html": [
       "<div>\n",
       "<style scoped>\n",
       "    .dataframe tbody tr th:only-of-type {\n",
       "        vertical-align: middle;\n",
       "    }\n",
       "\n",
       "    .dataframe tbody tr th {\n",
       "        vertical-align: top;\n",
       "    }\n",
       "\n",
       "    .dataframe thead th {\n",
       "        text-align: right;\n",
       "    }\n",
       "</style>\n",
       "<table border=\"1\" class=\"dataframe\">\n",
       "  <thead>\n",
       "    <tr style=\"text-align: right;\">\n",
       "      <th></th>\n",
       "      <th>Entity</th>\n",
       "      <th>Code</th>\n",
       "      <th>Year</th>\n",
       "      <th>Mean male height (cm)</th>\n",
       "      <th>Mean female height (cm)</th>\n",
       "      <th>change in male height</th>\n",
       "      <th>change in female height</th>\n",
       "      <th>GDP annual growth</th>\n",
       "    </tr>\n",
       "  </thead>\n",
       "  <tbody>\n",
       "    <tr>\n",
       "      <th>21005</th>\n",
       "      <td>Zimbabwe</td>\n",
       "      <td>ZWE</td>\n",
       "      <td>1994</td>\n",
       "      <td>168.963595</td>\n",
       "      <td>158.400025</td>\n",
       "      <td>0.0</td>\n",
       "      <td>0.0</td>\n",
       "      <td>9.235199</td>\n",
       "    </tr>\n",
       "    <tr>\n",
       "      <th>21006</th>\n",
       "      <td>Zimbabwe</td>\n",
       "      <td>ZWE</td>\n",
       "      <td>1995</td>\n",
       "      <td>168.774934</td>\n",
       "      <td>158.307779</td>\n",
       "      <td>0.0</td>\n",
       "      <td>0.0</td>\n",
       "      <td>0.158026</td>\n",
       "    </tr>\n",
       "    <tr>\n",
       "      <th>21007</th>\n",
       "      <td>Zimbabwe</td>\n",
       "      <td>ZWE</td>\n",
       "      <td>1996</td>\n",
       "      <td>168.586005</td>\n",
       "      <td>158.215186</td>\n",
       "      <td>0.0</td>\n",
       "      <td>0.0</td>\n",
       "      <td>10.360697</td>\n",
       "    </tr>\n",
       "  </tbody>\n",
       "</table>\n",
       "</div>"
      ],
      "text/plain": [
       "         Entity Code  Year  Mean male height (cm)  Mean female height (cm)  \\\n",
       "21005  Zimbabwe  ZWE  1994             168.963595               158.400025   \n",
       "21006  Zimbabwe  ZWE  1995             168.774934               158.307779   \n",
       "21007  Zimbabwe  ZWE  1996             168.586005               158.215186   \n",
       "\n",
       "       change in male height  change in female height  GDP annual growth  \n",
       "21005                    0.0                      0.0           9.235199  \n",
       "21006                    0.0                      0.0           0.158026  \n",
       "21007                    0.0                      0.0          10.360697  "
      ]
     },
     "execution_count": 61,
     "metadata": {},
     "output_type": "execute_result"
    }
   ],
   "source": [
    "avg_height_human.tail(3)"
   ]
  },
  {
   "cell_type": "code",
   "execution_count": 62,
   "metadata": {},
   "outputs": [
    {
     "name": "stdout",
     "output_type": "stream",
     "text": [
      "         gdp years: max - min:2020,1961\n",
      "height_human years: max - min:1996,1896\n"
     ]
    }
   ],
   "source": [
    "\n",
    "print(f\"         gdp years: max - min:{gdpYears.max()},{gdpYears.min()}\")\n",
    "print(f\"height_human years: max - min:{avg_height_human['Year'].max()},{avg_height_human['Year'].min()}\")\n",
    "\n"
   ]
  },
  {
   "cell_type": "markdown",
   "metadata": {},
   "source": [
    "The human height index dataset has years then we have gdp data for. So we should remove years we do not have."
   ]
  },
  {
   "cell_type": "code",
   "execution_count": 63,
   "metadata": {},
   "outputs": [],
   "source": [
    "dropDf = avg_height_human[(avg_height_human['Year'] < 1960)].index\n",
    "avg_height_human.drop(dropDf , inplace=True)"
   ]
  },
  {
   "cell_type": "code",
   "execution_count": 64,
   "metadata": {},
   "outputs": [
    {
     "data": {
      "text/html": [
       "<div>\n",
       "<style scoped>\n",
       "    .dataframe tbody tr th:only-of-type {\n",
       "        vertical-align: middle;\n",
       "    }\n",
       "\n",
       "    .dataframe tbody tr th {\n",
       "        vertical-align: top;\n",
       "    }\n",
       "\n",
       "    .dataframe thead th {\n",
       "        text-align: right;\n",
       "    }\n",
       "</style>\n",
       "<table border=\"1\" class=\"dataframe\">\n",
       "  <thead>\n",
       "    <tr style=\"text-align: right;\">\n",
       "      <th></th>\n",
       "      <th>Entity</th>\n",
       "      <th>Code</th>\n",
       "      <th>Year</th>\n",
       "      <th>Mean male height (cm)</th>\n",
       "      <th>Mean female height (cm)</th>\n",
       "      <th>change in male height</th>\n",
       "      <th>change in female height</th>\n",
       "      <th>GDP annual growth</th>\n",
       "    </tr>\n",
       "  </thead>\n",
       "  <tbody>\n",
       "    <tr>\n",
       "      <th>64</th>\n",
       "      <td>Afghanistan</td>\n",
       "      <td>AFG</td>\n",
       "      <td>1960</td>\n",
       "      <td>164.742777</td>\n",
       "      <td>156.404249</td>\n",
       "      <td>0.03299</td>\n",
       "      <td>0.02085</td>\n",
       "      <td>0.0</td>\n",
       "    </tr>\n",
       "    <tr>\n",
       "      <th>65</th>\n",
       "      <td>Afghanistan</td>\n",
       "      <td>AFG</td>\n",
       "      <td>1961</td>\n",
       "      <td>164.797132</td>\n",
       "      <td>156.436857</td>\n",
       "      <td>0.03198</td>\n",
       "      <td>0.01791</td>\n",
       "      <td>0.0</td>\n",
       "    </tr>\n",
       "    <tr>\n",
       "      <th>66</th>\n",
       "      <td>Afghanistan</td>\n",
       "      <td>AFG</td>\n",
       "      <td>1962</td>\n",
       "      <td>164.849830</td>\n",
       "      <td>156.464874</td>\n",
       "      <td>0.02991</td>\n",
       "      <td>0.01378</td>\n",
       "      <td>0.0</td>\n",
       "    </tr>\n",
       "  </tbody>\n",
       "</table>\n",
       "</div>"
      ],
      "text/plain": [
       "         Entity Code  Year  Mean male height (cm)  Mean female height (cm)  \\\n",
       "64  Afghanistan  AFG  1960             164.742777               156.404249   \n",
       "65  Afghanistan  AFG  1961             164.797132               156.436857   \n",
       "66  Afghanistan  AFG  1962             164.849830               156.464874   \n",
       "\n",
       "    change in male height  change in female height  GDP annual growth  \n",
       "64                0.03299                  0.02085                0.0  \n",
       "65                0.03198                  0.01791                0.0  \n",
       "66                0.02991                  0.01378                0.0  "
      ]
     },
     "execution_count": 64,
     "metadata": {},
     "output_type": "execute_result"
    }
   ],
   "source": [
    "avg_height_human.head(3)"
   ]
  },
  {
   "cell_type": "markdown",
   "metadata": {},
   "source": [
    "NOW LETS SAVE THE DATASET TO CSV"
   ]
  },
  {
   "cell_type": "code",
   "execution_count": 65,
   "metadata": {},
   "outputs": [],
   "source": [
    "avg_height_human.to_csv(\"avg_height_human_country_gdp.csv\", index=False)"
   ]
  },
  {
   "cell_type": "markdown",
   "metadata": {},
   "source": [
    "# Lets look at the data using python"
   ]
  },
  {
   "cell_type": "code",
   "execution_count": 66,
   "metadata": {},
   "outputs": [],
   "source": [
    "import numpy as np  ## Numpy is one of the default data science libraries, it contains numerous functions that help analyze and reshaping data\n",
    "# Matplotlib\n",
    "import matplotlib.pyplot as plt ## matplotlib is the default visualization library for python "
   ]
  },
  {
   "cell_type": "code",
   "execution_count": null,
   "metadata": {},
   "outputs": [],
   "source": []
  }
 ],
 "metadata": {
  "kernelspec": {
   "display_name": "Python 3.10.4 64-bit",
   "language": "python",
   "name": "python3"
  },
  "language_info": {
   "codemirror_mode": {
    "name": "ipython",
    "version": 3
   },
   "file_extension": ".py",
   "mimetype": "text/x-python",
   "name": "python",
   "nbconvert_exporter": "python",
   "pygments_lexer": "ipython3",
   "version": "3.10.4"
  },
  "orig_nbformat": 4,
  "vscode": {
   "interpreter": {
    "hash": "369f2c481f4da34e4445cda3fffd2e751bd1c4d706f27375911949ba6bb62e1c"
   }
  }
 },
 "nbformat": 4,
 "nbformat_minor": 2
}
